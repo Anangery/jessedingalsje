{
 "cells": [
  {
   "cell_type": "markdown",
   "metadata": {},
   "source": [
    "# Super coole magister request ding\n",
    "## maakt gebruik van de api dus is wel prima denk ik\n",
    "\n",
    "Ik ga hier echt veel te veel tijd aan besteden jezus christus"
   ]
  },
  {
   "cell_type": "code",
   "execution_count": 145,
   "metadata": {},
   "outputs": [],
   "source": [
    "import requests\n",
    "import json\n",
    "import sys\n",
    "import secrets\n",
    "\n",
    "sys.path.insert(0, '/Users/andrieszijlstra/Documents/Programming/Python/jupyter-magister/magister-api-python-main/app/')\n",
    "\n",
    "import requests_magister"
   ]
  },
  {
   "cell_type": "code",
   "execution_count": 138,
   "metadata": {},
   "outputs": [],
   "source": [
    "#TOKEN = \"eyJhbGciOiJSUzI1NiIsImtpZCI6IjQ1OTI0QTA0NzNEQjgwNURCM0RCOTlGQ0Y0OTFBNDA5QjU4QTg2MEZSUzI1NiIsIng1dCI6IlJaSktCSFBiZ0YyejI1bjg5SkdrQ2JXS2hnOCIsInR5cCI6ImF0K2p3dCJ9.eyJpc3MiOiJodHRwczovL2FjY291bnRzLm1hZ2lzdGVyLm5ldCIsIm5iZiI6MTY3Njk4NDMxNiwiaWF0IjoxNjc2OTg0MzE2LCJleHAiOjE2NzY5ODc5MTYsImF1ZCI6WyJvcHAiLCJhdHRlbmRhbmNlIiwiY2FsZW5kYXIuaWNhbCIsImNhbGVuZGFyLnRvLWRvIiwiaHR0cHM6Ly9hY2NvdW50cy5tYWdpc3Rlci5uZXQvcmVzb3VyY2VzIl0sInNjb3BlIjpbIm9wZW5pZCIsInByb2ZpbGUiLCJvcHAucmVhZCIsIm9wcC5tYW5hZ2UiLCJhdHRlbmRhbmNlLm92ZXJ2aWV3IiwiY2FsZW5kYXIuaWNhbC51c2VyIiwiY2FsZW5kYXIudG8tZG8udXNlciJdLCJhbXIiOlsicHdkIl0sImNsaWVudF9pZCI6Ik02LWFsdmludXMubWFnaXN0ZXIubmV0Iiwic3ViIjoiNjEzZWY2ZmM0NTgwNDI3OTkzZTg4NTBlOGYzNjEyOWEiLCJhdXRoX3RpbWUiOjE2NzY5ODQzMTYsImlkcCI6ImxvY2FsIiwidGlkIjoiNzlhNGJlNWQwNGU5NGI3ZTg3YTc2NThjYjFiNDQ5NDgiLCJzaWQiOiI5MUMyMDJGNzQxQUFGNDkwMTM1RjkzNjQ2MkM0OUMzRSIsImp0aSI6IkNENzUwMDY3RjgwNDQ5RDNCOTQwMTI4Nzk4QTExMzc1In0.C_zQ7dJL7NbMdgI7Fz1Ebrd5_IExqxgvmL6tkuKgzEPPp8li3xXxqNjvCk9CqGy7zOID8iqp7pmS4cdThjfDlM3W96z-ad5QG61ruoH-9LE3PK42vl9RO0WLbMhDF4ebchy5IXRbWDrJ_iddE6WWjH7ZpPq5yI8a3QJQzsQDcWb_smUGjvnfhl4nPRBUNKKGiM-J0mj1oNGZDJ6vYztDFTaSII5m7gpll0iyEr4qNwmW99DNOKJ_0jqsyXCNLrCmmENseF7ZVAnCYoAR7GdK8RgcmlKydUeUXT94U4tzw_Ff2W-zKUcRxwW8thDVEos79HhwjC-B1gzyZxC7G3TYvw\"\n",
    "personId = 17404"
   ]
  },
  {
   "cell_type": "code",
   "execution_count": 155,
   "metadata": {},
   "outputs": [],
   "source": [
    "TOKEN = requests_magister.getApiToken('12384', secrets.PASSWORD, 'alvinus')['apitoken']"
   ]
  },
  {
   "cell_type": "code",
   "execution_count": 193,
   "metadata": {},
   "outputs": [],
   "source": [
    "def getAbsenties():\n",
    "    try:\n",
    "        absenties_response = requests.get(f\"http://localhost:8000/api/absenties?apitoken={TOKEN}&personId={personId}&school=alvinus\")\n",
    "        absenties = absenties_response.json()\n",
    "        absentie_item = absenties['Items']\n",
    "\n",
    "        return absentie_item\n",
    "        \n",
    "    except:\n",
    "        raise LookupError(\"Invalid token / token expired\")\n",
    "\n",
    "absentie_item = getAbsenties()\n",
    "\n",
    "def ongeoorloofdeAbsenties():\n",
    "    absentie_list = []\n",
    "    for absentie in absentie_item:\n",
    "        if absentie['Geoorloofd'] == False:\n",
    "            absentie_list.append(absentie)\n",
    "    return absentie_list\n",
    "\n",
    "def v4aAbsenties():\n",
    "    absentie_list = []\n",
    "    for absentie in absentie_item:\n",
    "            if \"v4\" in absentie['Afspraak']['Omschrijving']:\n",
    "                absentie_list.append(absentie)\n",
    "    return absentie_list\n",
    "\n",
    "def recenteAbsenties():\n",
    "    return "
   ]
  },
  {
   "cell_type": "code",
   "execution_count": 187,
   "metadata": {},
   "outputs": [
    {
     "name": "stdout",
     "output_type": "stream",
     "text": [
      "FA: Huiswerk vergeten \n",
      "NE: Huiswerk vergeten \n",
      "FA - bri - g1a: ongeoorloofd verzuim ( ONVE )\n",
      "EN - mnm - g2a: Huiswerk vergeten \n",
      "GS - ota - g2a: Huiswerk vergeten \n",
      "DU - krj - g2a: Huiswerk vergeten \n",
      "NA - dim - g2a: Huiswerk vergeten \n",
      "DU - krj - g2a: Huiswerk vergeten \n",
      "LA - grk - g2.la1: Huiswerk vergeten \n",
      "EN - mnm - g2a: Huiswerk vergeten \n",
      "NE - htr - g2a: Huiswerk vergeten \n",
      "DU - krj - g2a: Huiswerk vergeten \n",
      "NA - hgm - g3a: Huiswerk vergeten \n",
      "SK - ors - g3a: Boeken vergeten \n",
      "BI - knm - g3a: Huiswerk vergeten \n",
      "DU - klh - g3a: Huiswerk vergeten \n",
      "BI - knm - g3a: Huiswerk vergeten \n",
      "BI - knm - g3a: Huiswerk vergeten \n",
      "BI - knm - g3a: Huiswerk vergeten \n",
      "BI - knm - g3a: Huiswerk vergeten \n",
      "BI - knm - g3a: Huiswerk vergeten \n",
      "BI - knm - g3a: Huiswerk vergeten \n",
      "SK - ors - g3a: Huiswerk vergeten \n",
      "SK - ors - g3a: Huiswerk vergeten \n",
      "LO - hdj - g3a: ongeoorloofd verzuim ( ONVE )\n",
      "LO - hdj - g3a: ongeoorloofd verzuim ( ONVE )\n"
     ]
    }
   ],
   "source": [
    "ongeoorloofde_absenties = ongeoorloofdeAbsenties()\n",
    "for absentie in ongeoorloofde_absenties:\n",
    "    print(absentie['Afspraak']['Omschrijving'], absentie['Omschrijving'], sep=\": \")"
   ]
  },
  {
   "cell_type": "code",
   "execution_count": 194,
   "metadata": {},
   "outputs": [
    {
     "name": "stdout",
     "output_type": "stream",
     "text": [
      "EN - brd - v4a: Vrijstelling \n",
      "MA - lki - v4.ma1: Vrijstelling \n",
      "NA - htj - v4.na1: Vrijstelling \n",
      "NA - htj - v4.na1: Vrijstelling \n",
      "EN - brd - v4a: Vrijstelling \n",
      "WB - prl - v4.wb2: Vrijstelling \n"
     ]
    }
   ],
   "source": [
    "v4a_absenties = v4aAbsenties()\n",
    "for absentie in v4a_absenties:\n",
    "    print(absentie['Afspraak']['Omschrijving'], absentie['Omschrijving'], sep=\": \")"
   ]
  },
  {
   "cell_type": "code",
   "execution_count": 153,
   "metadata": {},
   "outputs": [
    {
     "name": "stdout",
     "output_type": "stream",
     "text": [
      "(0, 0, 0)\n"
     ]
    }
   ],
   "source": [
    "try:\n",
    "    berichten_response = requests.get(f\"http://localhost:8000/api/berichten?apitoken={TOKEN}&school=alvinus\")\n",
    "    berichten = berichten_response.json()\n",
    "    \n",
    "    aantalOngelezen = (berichten['items'][0]['aantalOngelezen'], berichten['items'][1]['aantalOngelezen'], berichten['items'][2]['aantalOngelezen'])\n",
    "    print(aantalOngelezen)\n",
    "except:\n",
    "    print(\"Token expired/Invalid token\")"
   ]
  }
 ],
 "metadata": {
  "kernelspec": {
   "display_name": "Python 3.10.4 64-bit",
   "language": "python",
   "name": "python3"
  },
  "language_info": {
   "codemirror_mode": {
    "name": "ipython",
    "version": 3
   },
   "file_extension": ".py",
   "mimetype": "text/x-python",
   "name": "python",
   "nbconvert_exporter": "python",
   "pygments_lexer": "ipython3",
   "version": "3.10.4"
  },
  "orig_nbformat": 4,
  "vscode": {
   "interpreter": {
    "hash": "aee8b7b246df8f9039afb4144a1f6fd8d2ca17a180786b69acc140d282b71a49"
   }
  }
 },
 "nbformat": 4,
 "nbformat_minor": 2
}
