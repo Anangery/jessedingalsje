{
 "cells": [
  {
   "cell_type": "markdown",
   "metadata": {},
   "source": [
    "# Super coole magister request ding\n",
    "## maakt gebruik van de api dus is wel prima denk ik\n",
    "\n",
    "Ik ga hier echt veel te veel tijd aan besteden jezus christus"
   ]
  },
  {
   "cell_type": "code",
   "execution_count": 119,
   "metadata": {},
   "outputs": [],
   "source": [
    "import requests\n",
    "import json"
   ]
  },
  {
   "cell_type": "code",
   "execution_count": 123,
   "metadata": {},
   "outputs": [],
   "source": [
    "TOKEN = \"eyJhbGciOiJSUzI1NiIsImtpZCI6IjQ1OTI0QTA0NzNEQjgwNURCM0RCOTlGQ0Y0OTFBNDA5QjU4QTg2MEZSUzI1NiIsIng1dCI6IlJaSktCSFBiZ0YyejI1bjg5SkdrQ2JXS2hnOCIsInR5cCI6ImF0K2p3dCJ9.eyJpc3MiOiJodHRwczovL2FjY291bnRzLm1hZ2lzdGVyLm5ldCIsIm5iZiI6MTY3Njk3ODYyOCwiaWF0IjoxNjc2OTc4NjI4LCJleHAiOjE2NzY5ODIyMjgsImF1ZCI6WyJvcHAiLCJhdHRlbmRhbmNlIiwiY2FsZW5kYXIuaWNhbCIsImNhbGVuZGFyLnRvLWRvIiwiaHR0cHM6Ly9hY2NvdW50cy5tYWdpc3Rlci5uZXQvcmVzb3VyY2VzIl0sInNjb3BlIjpbIm9wZW5pZCIsInByb2ZpbGUiLCJvcHAucmVhZCIsIm9wcC5tYW5hZ2UiLCJhdHRlbmRhbmNlLm92ZXJ2aWV3IiwiY2FsZW5kYXIuaWNhbC51c2VyIiwiY2FsZW5kYXIudG8tZG8udXNlciJdLCJhbXIiOlsicHdkIl0sImNsaWVudF9pZCI6Ik02LWFsdmludXMubWFnaXN0ZXIubmV0Iiwic3ViIjoiNjEzZWY2ZmM0NTgwNDI3OTkzZTg4NTBlOGYzNjEyOWEiLCJhdXRoX3RpbWUiOjE2NzY5Nzg2MjgsImlkcCI6ImxvY2FsIiwidGlkIjoiNzlhNGJlNWQwNGU5NGI3ZTg3YTc2NThjYjFiNDQ5NDgiLCJzaWQiOiJGNUI2MzVFMzIzMjIxOUVGRDYwMTUwRjEyRDgyQTI4QyIsImp0aSI6IjhDMUU1QUFGODM0QTQwQUYzMDc2MUI1ODY0QzlDQkUyIn0.bCvYcYQNUHMMejAC6b9EUr6YCVXSalt0xrEzipja20WPtyBNL4JNgMQ4b1x4fxSNC1gVMmKlCNEhhf4Ls-DejsnKtWzbSITkuhqO2AWP1d-WClXQaXHHZP_626Kt00kHX-LOqMKw4TwnksKA0vhRO-F2QEQKZ4hfuLIP9I747hGIGjWw417JIVhkT_v3RJ1SXuduTVrKqabfzIyu_0G46pUBCLuVkCl1UlZDRQrcqHU5z-z4ESOiKOUEMJ5s3zU_scbaBSomluk46fJ22tpotzfd6z2o0Fx3U4ke1UUtNc86XN3cp_yjdqqTiNhZuE9V9-myTiIG7_BqwGXC6iPxhg\"\n",
    "personId = 17404"
   ]
  },
  {
   "cell_type": "code",
   "execution_count": 125,
   "metadata": {},
   "outputs": [],
   "source": [
    "absenties_response = requests.get(f\"http://localhost:8000/api/absenties?apitoken={TOKEN}&personId={personId}&school=alvinus\")\n",
    "absenties = absenties_response.json()"
   ]
  },
  {
   "cell_type": "code",
   "execution_count": 126,
   "metadata": {},
   "outputs": [
    {
     "name": "stdout",
     "output_type": "stream",
     "text": [
      "FA: Huiswerk vergeten \n",
      "NE: Huiswerk vergeten \n",
      "FA - bri - g1a: ongeoorloofd verzuim ( ONVE )\n",
      "EN - mnm - g2a: Huiswerk vergeten \n",
      "GS - ota - g2a: Huiswerk vergeten \n",
      "DU - krj - g2a: Huiswerk vergeten \n",
      "NA - dim - g2a: Huiswerk vergeten \n",
      "DU - krj - g2a: Huiswerk vergeten \n",
      "LA - grk - g2.la1: Huiswerk vergeten \n",
      "EN - mnm - g2a: Huiswerk vergeten \n",
      "NE - htr - g2a: Huiswerk vergeten \n",
      "DU - krj - g2a: Huiswerk vergeten \n",
      "NA - hgm - g3a: Huiswerk vergeten \n",
      "SK - ors - g3a: Boeken vergeten \n",
      "BI - knm - g3a: Huiswerk vergeten \n",
      "DU - klh - g3a: Huiswerk vergeten \n",
      "BI - knm - g3a: Huiswerk vergeten \n",
      "BI - knm - g3a: Huiswerk vergeten \n",
      "BI - knm - g3a: Huiswerk vergeten \n",
      "BI - knm - g3a: Huiswerk vergeten \n",
      "BI - knm - g3a: Huiswerk vergeten \n",
      "BI - knm - g3a: Huiswerk vergeten \n",
      "SK - ors - g3a: Huiswerk vergeten \n",
      "SK - ors - g3a: Huiswerk vergeten \n",
      "LO - hdj - g3a: ongeoorloofd verzuim ( ONVE )\n",
      "LO - hdj - g3a: ongeoorloofd verzuim ( ONVE )\n"
     ]
    }
   ],
   "source": [
    "absentie_item = absenties['Items']\n",
    "for absentie in absentie_item:\n",
    "    if absentie['Geoorloofd'] == False:\n",
    "        print(f\"{absentie['Afspraak']['Omschrijving']}: {absentie['Omschrijving']}\")"
   ]
  },
  {
   "cell_type": "code",
   "execution_count": 128,
   "metadata": {},
   "outputs": [
    {
     "name": "stdout",
     "output_type": "stream",
     "text": [
      "(1, 0, 0)\n"
     ]
    }
   ],
   "source": [
    "berichten_response = requests.get(f\"http://localhost:8000/api/berichten?apitoken={TOKEN}&school=alvinus\")\n",
    "berichten = berichten_response.json()\n",
    "aantalOngelezen = (berichten['items'][0]['aantalOngelezen'], berichten['items'][1]['aantalOngelezen'], berichten['items'][2]['aantalOngelezen'])\n",
    "print(aantalOngelezen)"
   ]
  }
 ],
 "metadata": {
  "kernelspec": {
   "display_name": "Python 3.10.4 64-bit",
   "language": "python",
   "name": "python3"
  },
  "language_info": {
   "codemirror_mode": {
    "name": "ipython",
    "version": 3
   },
   "file_extension": ".py",
   "mimetype": "text/x-python",
   "name": "python",
   "nbconvert_exporter": "python",
   "pygments_lexer": "ipython3",
   "version": "3.10.4"
  },
  "orig_nbformat": 4,
  "vscode": {
   "interpreter": {
    "hash": "aee8b7b246df8f9039afb4144a1f6fd8d2ca17a180786b69acc140d282b71a49"
   }
  }
 },
 "nbformat": 4,
 "nbformat_minor": 2
}
